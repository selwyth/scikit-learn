{
 "cells": [
  {
   "cell_type": "markdown",
   "metadata": {
    "slideshow": {
     "slide_type": "slide"
    }
   },
   "source": [
    "### Do you want to be a contributor to scikit-learn?\n",
    "![Alt text](http://i.memecaptain.com/gend_images/hKMa8g.jpg)"
   ]
  },
  {
   "cell_type": "markdown",
   "metadata": {
    "collapsed": true,
    "slideshow": {
     "slide_type": "slide"
    }
   },
   "source": [
    "![Alt text](bayarea.png)"
   ]
  },
  {
   "cell_type": "markdown",
   "metadata": {
    "slideshow": {
     "slide_type": "subslide"
    }
   },
   "source": [
    "![Alt Text](sfkm5.png \"After 5-Means Clustering\")"
   ]
  },
  {
   "cell_type": "markdown",
   "metadata": {
    "slideshow": {
     "slide_type": "subslide"
    }
   },
   "source": [
    "![Alt text](sfknn.png)"
   ]
  },
  {
   "cell_type": "markdown",
   "metadata": {
    "slideshow": {
     "slide_type": "slide"
    }
   },
   "source": [
    "Would like to put a clusterer (e.g. `MiniBatchKMeans()`) and classifier (e.g. `KNearestNeighbors()`) into a `pipeline`, then use `GridSearchCV` to tune the hyperparameters `n_clusters` and `n_neighbors`."
   ]
  },
  {
   "cell_type": "markdown",
   "metadata": {
    "slideshow": {
     "slide_type": "fragment"
    }
   },
   "source": [
    "**Problem**: `pipeline` requires beginning and intermediate steps to have `transform` method while final step must have `predict` method. Clusterers do not have `transform` methods."
   ]
  },
  {
   "cell_type": "markdown",
   "metadata": {
    "slideshow": {
     "slide_type": "fragment"
    }
   },
   "source": [
    "**Complication**: The feature space is optionally changed in between the clustering and classification step. Clusterer's `predict` method is not sufficient in that case."
   ]
  },
  {
   "cell_type": "markdown",
   "metadata": {
    "slideshow": {
     "slide_type": "fragment"
    }
   },
   "source": [
    "![Alt text](http://i.memecaptain.com/gend_images/R74nxQ.jpg)"
   ]
  },
  {
   "cell_type": "code",
   "execution_count": null,
   "metadata": {
    "collapsed": false,
    "slideshow": {
     "slide_type": "slide"
    }
   },
   "outputs": [],
   "source": [
    "class InductiveClusterer(BaseEstimator):\n",
    "    def __init__(self, clusterer, classifier):\n",
    "        self.clusterer = clusterer\n",
    "        self.classifier = classifier\n",
    "\n",
    "    def fit(self, X, y=None):\n",
    "        self.clusterer_ = clone(self.clusterer)\n",
    "        self.classifier_ = clone(self.classifier)\n",
    "        y = self.clusterer_.fit_predict(X)\n",
    "        self.classifier_.fit(X, y)\n",
    "        return self\n",
    "\n",
    "    @if_delegate_has_method(delegate='classifier')\n",
    "    def predict(self, X):\n",
    "        return self.classifier_.predict(X)\n",
    "\n",
    "    @if_delegate_has_method(delegate='classifier')\n",
    "    def decision_function(self, X):\n",
    "        return self.classifier_.decision_function(X)"
   ]
  },
  {
   "cell_type": "markdown",
   "metadata": {
    "slideshow": {
     "slide_type": "slide"
    }
   },
   "source": [
    "### If you're still in:\n",
    "- original issue here: https://github.com/scikit-learn/scikit-learn/issues/4543"
   ]
  },
  {
   "cell_type": "markdown",
   "metadata": {
    "slideshow": {
     "slide_type": "fragment"
    }
   },
   "source": [
    "- fork my fork of the scikit-learn repository: https://github.com/selwyth/scikit-learn.git\n",
    "    + 'ind-ctr' branch serves as the master\n",
    "    + plot_inductive_clustering.py under 'examples'"
   ]
  },
  {
   "cell_type": "markdown",
   "metadata": {
    "slideshow": {
     "slide_type": "fragment"
    }
   },
   "source": [
    "- explore iris and newsgroup datasets and see if the feature space can be modified\n",
    "- be mindful of change in feature space (is it solvable given the code?)"
   ]
  },
  {
   "cell_type": "markdown",
   "metadata": {
    "slideshow": {
     "slide_type": "fragment"
    }
   },
   "source": [
    "- 'regularize' against the trivial best result of 1, few clusters (possibly related to next point)\n",
    "- familiarize with `sklearn.metrics` clustering evaluations: http://scikit-learn.org/stable/modules/classes.html#module-sklearn.metrics.cluster since that appears to be the right way to score in the end"
   ]
  },
  {
   "cell_type": "markdown",
   "metadata": {
    "slideshow": {
     "slide_type": "fragment"
    }
   },
   "source": [
    "# Let's go!"
   ]
  }
 ],
 "metadata": {
  "celltoolbar": "Slideshow",
  "kernelspec": {
   "display_name": "Python 2",
   "language": "python",
   "name": "python2"
  },
  "language_info": {
   "codemirror_mode": {
    "name": "ipython",
    "version": 2
   },
   "file_extension": ".py",
   "mimetype": "text/x-python",
   "name": "python",
   "nbconvert_exporter": "python",
   "pygments_lexer": "ipython2",
   "version": "2.7.8"
  }
 },
 "nbformat": 4,
 "nbformat_minor": 0
}
